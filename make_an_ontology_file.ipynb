{
 "cells": [
  {
   "cell_type": "code",
   "execution_count": 1,
   "metadata": {},
   "outputs": [],
   "source": [
    "# we start with imports\n",
    "from rdflib import Graph, URIRef, Literal, Namespace\n",
    "from rdflib.namespace import RDFS, RDF, OWL, XSD"
   ]
  },
  {
   "cell_type": "code",
   "execution_count": 2,
   "metadata": {},
   "outputs": [],
   "source": [
    "# Let's define the namespaces\n",
    "KGL = Namespace(\"http://example.org/ibm-KnowGL/#\")\n",
    "RBL = Namespace(\"http://example.org/rebel/#\")\n",
    "WIKI = Namespace(\"https://www.wikidata.org/wiki/\")"
   ]
  },
  {
   "cell_type": "code",
   "execution_count": 3,
   "metadata": {},
   "outputs": [],
   "source": [
    "g = Graph() # create a graph object\n",
    "g.bind(\"rebel\", RBL,  override=True) # bind the rebel namespace to the graph\n",
    "g.bind(\"knowGL\", KGL,  override=True) # bind the knowGL namespace to the graph\n",
    "g.bind(\"wiki\", WIKI, override=True) # bind the wiki namespace to the graph"
   ]
  },
  {
   "cell_type": "code",
   "execution_count": 4,
   "metadata": {},
   "outputs": [
    {
     "data": {
      "text/plain": [
       "<Graph identifier=Nad85f0c0d9704f638c9e9d983c2b4503 (<class 'rdflib.graph.Graph'>)>"
      ]
     },
     "execution_count": 4,
     "metadata": {},
     "output_type": "execute_result"
    }
   ],
   "source": [
    "g.add((RBL.Entity, RDF.type, RDFS.Resource))\n",
    "g.add((RBL.Entity, RDFS.subClassOf, OWL.Thing))\n",
    "g.add((RBL.Relation, RDF.type, RDF.Property))"
   ]
  },
  {
   "cell_type": "code",
   "execution_count": 5,
   "metadata": {},
   "outputs": [
    {
     "data": {
      "text/plain": [
       "<Graph identifier=Nad85f0c0d9704f638c9e9d983c2b4503 (<class 'rdflib.graph.Graph'>)>"
      ]
     },
     "execution_count": 5,
     "metadata": {},
     "output_type": "execute_result"
    }
   ],
   "source": [
    "g.add((KGL.Entity, RDF.type, RDFS.Resource))\n",
    "g.add((KGL.Entity, RDFS.subClassOf, OWL.Thing))\n",
    "g.add((KGL.Relation, RDF.type, RDF.Property))\n",
    "g.add((KGL.Type, RDF.type, RDFS.Class))"
   ]
  },
  {
   "cell_type": "code",
   "execution_count": 6,
   "metadata": {},
   "outputs": [
    {
     "name": "stderr",
     "output_type": "stream",
     "text": [
      "/tmp/ipykernel_25204/4219024551.py:1: UserWarning: Code: datatype is not defined in namespace XSD\n",
      "  g.add((RDFS.label, XSD.datatype, XSD.string))\n"
     ]
    },
    {
     "data": {
      "text/plain": [
       "<Graph identifier=Nad85f0c0d9704f638c9e9d983c2b4503 (<class 'rdflib.graph.Graph'>)>"
      ]
     },
     "execution_count": 6,
     "metadata": {},
     "output_type": "execute_result"
    }
   ],
   "source": [
    "g.add((RDFS.label, XSD.datatype, XSD.string))\n",
    "g.add((WIKI.id, RDFS.range, XSD.string))"
   ]
  },
  {
   "cell_type": "code",
   "execution_count": 7,
   "metadata": {},
   "outputs": [
    {
     "data": {
      "text/plain": [
       "<Graph identifier=Nad85f0c0d9704f638c9e9d983c2b4503 (<class 'rdflib.graph.Graph'>)>"
      ]
     },
     "execution_count": 7,
     "metadata": {},
     "output_type": "execute_result"
    }
   ],
   "source": [
    "g.add((RDF.type, OWL.equivalentProperty, WIKI.P31))\n",
    "g.add((RDFS.subClassOf, OWL.equivalentProperty, WIKI.P279))\n",
    "g.add((RDFS.subPropertyOf, OWL.equivalentProperty, WIKI.P1647))\n",
    "g.add((RDFS.member, OWL.equivalentProperty, WIKI.P361))"
   ]
  },
  {
   "attachments": {},
   "cell_type": "markdown",
   "metadata": {},
   "source": [
    "We are going to add some deliberate inconsistencies:"
   ]
  },
  {
   "cell_type": "code",
   "execution_count": 8,
   "metadata": {},
   "outputs": [
    {
     "data": {
      "text/plain": [
       "<Graph identifier=Nad85f0c0d9704f638c9e9d983c2b4503 (<class 'rdflib.graph.Graph'>)>"
      ]
     },
     "execution_count": 8,
     "metadata": {},
     "output_type": "execute_result"
    }
   ],
   "source": [
    "g.add((KGL.accountancy, OWL.disjointWith, KGL.legal))\n",
    "g.add((KGL.aftershave, OWL.disjointWith, KGL.perfume))\n",
    "g.add((KGL.Cultivar, OWL.disjointWith, KGL.genetically_modified_potato))\n",
    "g.add((KGL.anthropogenic, OWL.disjointWith, KGL.halogen))\n",
    "g.add((KGL.business_practises, OWL.disjointWith, KGL.ethics)) \n",
    "g.add((KGL.carbon_dioxide, OWL.disjointWith, KGL.greenhouse_gas))"
   ]
  },
  {
   "cell_type": "code",
   "execution_count": 9,
   "metadata": {},
   "outputs": [
    {
     "name": "stdout",
     "output_type": "stream",
     "text": [
      "@prefix knowGL: <http://example.org/ibm-KnowGL/#> .\n",
      "@prefix owl: <http://www.w3.org/2002/07/owl#> .\n",
      "@prefix rdf: <http://www.w3.org/1999/02/22-rdf-syntax-ns#> .\n",
      "@prefix rdfs: <http://www.w3.org/2000/01/rdf-schema#> .\n",
      "@prefix rebel: <http://example.org/rebel/#> .\n",
      "@prefix wiki: <https://www.wikidata.org/wiki/> .\n",
      "@prefix xsd: <http://www.w3.org/2001/XMLSchema#> .\n",
      "\n",
      "knowGL:Type a rdfs:Class .\n",
      "\n",
      "knowGL:Cultivar owl:disjointWith knowGL:genetically_modified_potato .\n",
      "\n",
      "knowGL:Entity a rdfs:Resource ;\n",
      "    rdfs:subClassOf owl:Thing .\n",
      "\n",
      "knowGL:Relation a rdf:Property .\n",
      "\n",
      "knowGL:accountancy owl:disjointWith knowGL:legal .\n",
      "\n",
      "knowGL:aftershave owl:disjointWith knowGL:perfume .\n",
      "\n",
      "knowGL:anthropogenic owl:disjointWith knowGL:halogen .\n",
      "\n",
      "knowGL:business_practises owl:disjointWith knowGL:ethics .\n",
      "\n",
      "knowGL:carbon_dioxide owl:disjointWith knowGL:greenhouse_gas .\n",
      "\n",
      "rebel:Entity a rdfs:Resource ;\n",
      "    rdfs:subClassOf owl:Thing .\n",
      "\n",
      "rebel:Relation a rdf:Property .\n",
      "\n",
      "rdf:type owl:equivalentProperty wiki:P31 .\n",
      "\n",
      "rdfs:label xsd:datatype xsd:string .\n",
      "\n",
      "rdfs:member owl:equivalentProperty wiki:P361 .\n",
      "\n",
      "rdfs:subClassOf owl:equivalentProperty wiki:P279 .\n",
      "\n",
      "rdfs:subPropertyOf owl:equivalentProperty wiki:P1647 .\n",
      "\n",
      "wiki:id xsd:datatype xsd:string .\n",
      "\n",
      "\n"
     ]
    }
   ],
   "source": [
    "# let's have a look at the ontology\n",
    "print(g.serialize())"
   ]
  },
  {
   "cell_type": "code",
   "execution_count": 10,
   "metadata": {},
   "outputs": [
    {
     "data": {
      "text/plain": [
       "<Graph identifier=Nad85f0c0d9704f638c9e9d983c2b4503 (<class 'rdflib.graph.Graph'>)>"
      ]
     },
     "execution_count": 10,
     "metadata": {},
     "output_type": "execute_result"
    }
   ],
   "source": [
    "# let's save the graph\n",
    "g.serialize(destination=\"KGs/ontology_version_1.ttl\", format=\"turtle\")"
   ]
  }
 ],
 "metadata": {
  "kernelspec": {
   "display_name": "base",
   "language": "python",
   "name": "python3"
  },
  "language_info": {
   "codemirror_mode": {
    "name": "ipython",
    "version": 3
   },
   "file_extension": ".py",
   "mimetype": "text/x-python",
   "name": "python",
   "nbconvert_exporter": "python",
   "pygments_lexer": "ipython3",
   "version": "3.10.9"
  },
  "orig_nbformat": 4
 },
 "nbformat": 4,
 "nbformat_minor": 2
}

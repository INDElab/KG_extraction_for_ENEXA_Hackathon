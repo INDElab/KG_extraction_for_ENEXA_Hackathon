{
 "cells": [
  {
   "attachments": {},
   "cell_type": "markdown",
   "metadata": {},
   "source": [
    "### 3. Wikidata Notebook\n",
    "\n",
    "##### In this notebook, we:\n",
    "1. load the data that we saved the extracted triples, entities, and relations.\n",
    "2. write a function to get wikidata IDs.\n",
    "3. make an entity dict: \n",
    "    * entity_dict[rebel_extracted_string_in_subject_or_object_position] = wikidata_id_if_any\n",
    "4. make a relation dict: \n",
    "    * relation_dict[rebel_extracted_string_in_predicate_position] = wikidata_id_if_any\n",
    "5. convert REBEL triples into Wikidata triples.\n",
    "6. save all the extracted triples, entities and relations separately in a jsonl file."
   ]
  },
  {
   "cell_type": "code",
   "execution_count": 1,
   "metadata": {},
   "outputs": [],
   "source": [
    "import requests\n",
    "import json"
   ]
  },
  {
   "cell_type": "code",
   "execution_count": 2,
   "metadata": {},
   "outputs": [
    {
     "name": "stdout",
     "output_type": "stream",
     "text": [
      "Number of data instances:  917\n"
     ]
    }
   ],
   "source": [
    "# Let's start by loading the data we extracted in the previous notebook.\n",
    "data = []\n",
    "with open('data/preprocessed_data_with_REBEL_extracted_triples.jsonl', 'r', encoding='utf-8') as f:\n",
    "    for line in f:\n",
    "        data.append(json.loads(line.rstrip('None\\n')))\n",
    "print('Number of data instances: ', len(data))"
   ]
  },
  {
   "cell_type": "code",
   "execution_count": 3,
   "metadata": {},
   "outputs": [],
   "source": [
    "#function to get wikidata IDs\n",
    "def call_wiki_api(item, item_type='entity'):\n",
    "  if item_type == 'entity':\n",
    "    url = f\"https://www.wikidata.org/w/api.php?action=wbsearchentities&search={item}&language=en&format=json\"\n",
    "  if item_type == 'property':\n",
    "    url = f\"https://www.wikidata.org/w/api.php?action=wbsearchentities&search={item}&type=property&language=en&format=json\"\n",
    "  try:\n",
    "    data = requests.get(url).json()\n",
    "    # Return the first id (Could upgrade this in the future)\n",
    "    return data['search'][0]['id']\n",
    "  except:\n",
    "    return 'no-wikiID'"
   ]
  },
  {
   "cell_type": "code",
   "execution_count": 4,
   "metadata": {},
   "outputs": [
    {
     "name": "stdout",
     "output_type": "stream",
     "text": [
      "Q76\n",
      "P31\n",
      "Q21503252\n"
     ]
    }
   ],
   "source": [
    "#Let's test it \n",
    "ent = call_wiki_api('Barack Obama')\n",
    "print(ent)\n",
    "\n",
    "prop = call_wiki_api('instance of', item_type='property')\n",
    "print(prop)\n",
    "\n",
    "ent2 = call_wiki_api('instance of')\n",
    "print(ent2)"
   ]
  },
  {
   "cell_type": "code",
   "execution_count": 5,
   "metadata": {},
   "outputs": [
    {
     "name": "stdout",
     "output_type": "stream",
     "text": [
      "Total number of entities: 3738\n",
      "Total number of relations: 157\n"
     ]
    }
   ],
   "source": [
    "all_entities = set() # to avoid duplicates and reduce the number of API calls\n",
    "all_relations = set() # to avoid duplicates and reduce the number of API calls\n",
    "for line in data:\n",
    "    entities = line[\"Extracted Entities\"]\n",
    "    relations = line[\"Extracted Relations\"]\n",
    "    for ent in entities:\n",
    "        all_entities.add(ent)\n",
    "    for rel in relations:\n",
    "        all_relations.add(rel)\n",
    "print(f\"Total number of entities: {len(all_entities)}\")\n",
    "print(f\"Total number of relations: {len(all_relations)}\")"
   ]
  },
  {
   "cell_type": "code",
   "execution_count": 6,
   "metadata": {},
   "outputs": [],
   "source": [
    "# Let's call the API for all entities and relations to get their wikidata IDs  \n",
    "rel_dict = {}\n",
    "for rel in sorted(all_relations):\n",
    "    rel_dict[rel] = call_wiki_api(rel, item_type='property')"
   ]
  },
  {
   "cell_type": "code",
   "execution_count": 7,
   "metadata": {},
   "outputs": [
    {
     "name": "stdout",
     "output_type": "stream",
     "text": [
      "157\n",
      "P527\n"
     ]
    }
   ],
   "source": [
    "#Let's see how it looks like:\n",
    "print(len(rel_dict))\n",
    "print(rel_dict['has part'])"
   ]
  },
  {
   "cell_type": "code",
   "execution_count": 8,
   "metadata": {},
   "outputs": [],
   "source": [
    "# Let's save the dictionary\n",
    "with open('data/rebel_wiki_relations_dict.json', 'w') as f:\n",
    "  json.dump(rel_dict, f, indent=4)"
   ]
  },
  {
   "cell_type": "code",
   "execution_count": 9,
   "metadata": {},
   "outputs": [],
   "source": [
    "# It's entities' turn\n",
    "ent_dict = {}\n",
    "\n",
    "for ent in sorted(all_entities):\n",
    "    ent_dict[ent] = call_wiki_api(ent)"
   ]
  },
  {
   "cell_type": "code",
   "execution_count": 10,
   "metadata": {},
   "outputs": [],
   "source": [
    "# Let's save the dictionary\n",
    "with open('data/rebel_wiki_entities_dict.json', 'w') as f:\n",
    "  json.dump(ent_dict, f, indent=4)"
   ]
  },
  {
   "cell_type": "code",
   "execution_count": 11,
   "metadata": {},
   "outputs": [],
   "source": [
    "# it's triples' turn\n",
    "for line in data:\n",
    "    wikidata_triple_list = []\n",
    "    triple_list = line['Extracted Triples']\n",
    "    for triple in triple_list:\n",
    "        subj = ent_dict[triple[0]]\n",
    "        rel = rel_dict[triple[1]]\n",
    "        obj = ent_dict[triple[2]]\n",
    "        wiki_triple = [subj, rel, obj]\n",
    "        #print(wiki_triple)\n",
    "        if 'no-wikiID' not in wiki_triple:\n",
    "            wikidata_triple_list.append(wiki_triple)\n",
    "    line['Wikidata Triples'] = sorted(wikidata_triple_list)"
   ]
  },
  {
   "cell_type": "code",
   "execution_count": 12,
   "metadata": {},
   "outputs": [],
   "source": [
    "# Let's save the data\n",
    "with open('data/preprocessed_data_with_REBEL_extracted_triples_plus_wikidata.jsonl', 'w', encoding='utf-8') as f:\n",
    "    for line in data:\n",
    "        line = json.dump(line, f, ensure_ascii=False)\n",
    "        f.write(f'{line}\\n')"
   ]
  }
 ],
 "metadata": {
  "kernelspec": {
   "display_name": "base",
   "language": "python",
   "name": "python3"
  },
  "language_info": {
   "codemirror_mode": {
    "name": "ipython",
    "version": 3
   },
   "file_extension": ".py",
   "mimetype": "text/x-python",
   "name": "python",
   "nbconvert_exporter": "python",
   "pygments_lexer": "ipython3",
   "version": "3.10.9"
  },
  "orig_nbformat": 4
 },
 "nbformat": 4,
 "nbformat_minor": 2
}

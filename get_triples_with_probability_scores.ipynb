{
 "cells": [
  {
   "cell_type": "code",
   "execution_count": 1,
   "metadata": {},
   "outputs": [
    {
     "name": "stdout",
     "output_type": "stream",
     "text": [
      "Python 3.10.9\n",
      "Pythorch version:  2.0.1+cu117\n",
      "Transformers version:  4.30.2\n"
     ]
    }
   ],
   "source": [
    "#environment details:\n",
    "!python --version\n",
    "import torch\n",
    "print('Pythorch version: ', torch.__version__)\n",
    "import transformers\n",
    "print('Transformers version: ', transformers.__version__)\n",
    "import json\n",
    "import requests\n",
    "import numpy as np"
   ]
  },
  {
   "cell_type": "code",
   "execution_count": 2,
   "metadata": {},
   "outputs": [
    {
     "name": "stdout",
     "output_type": "stream",
     "text": [
      "Number of data instances:  917\n"
     ]
    }
   ],
   "source": [
    "# Let's start by loading the data we preprocessed in the previous notebook.\n",
    "data = []\n",
    "with open('data/preprocessed_data_for_extraction.jsonl', 'r', encoding='utf-8') as f:\n",
    "    for line in f:\n",
    "        data.append(json.loads(line.rstrip('None\\n')))\n",
    "print('Number of data instances: ', len(data))"
   ]
  },
  {
   "cell_type": "code",
   "execution_count": 3,
   "metadata": {},
   "outputs": [],
   "source": [
    "# It is a post-processing function to shape the triples from the KnowGL output\n",
    "def extract_triples(pred):\n",
    "    \"\"\" Just one sequence is passed as argument \"\"\"\n",
    "    triples = set()\n",
    "    entity_set = set()\n",
    "    entity_triples = set()\n",
    "    relation_set = set()\n",
    "    pred = pred.replace(\"<s>\", \"\").replace(\"<pad>\", \"\").replace(\"</s>\", \"\").replace(\"[\", \"\").replace(\"]\", \"\").replace(\"(\", \"\").replace(\")\", \"\") # we remove the brackets and parenthesisstrip() # remove special tokens\n",
    "        \n",
    "    if '$' in pred:\n",
    "        pred = pred.split('$')\n",
    "        \n",
    "    else:\n",
    "        pred = [pred]\n",
    "            \n",
    "    pred = [triple.split('|') for triple in pred]   \n",
    "        \n",
    "    for triple in pred:\n",
    "        if len(triple) != 3:\n",
    "            continue\n",
    "        if triple[0] == '' or triple[1] == '' or triple[2] == '':\n",
    "            continue\n",
    "            \n",
    "        sbj = triple[0].split('#')\n",
    "        if len(sbj) != 3:\n",
    "            continue\n",
    "        entity_set.add(sbj[0])\n",
    "        entity_triples.add((sbj[0], \"label\", sbj[1]))\n",
    "        entity_triples.add((sbj[0], \"type\", sbj[2]))\n",
    "            \n",
    "        rel = triple[1]\n",
    "        relation_set.add(rel)\n",
    "            \n",
    "        obj = triple[2].split('#')\n",
    "        if len(obj) != 3:\n",
    "            continue\n",
    "        entity_set.add(obj[0])\n",
    "        entity_triples.add((obj[0], \"label\", obj[1]))\n",
    "        entity_triples.add((obj[0], \"type\", obj[2]))\n",
    "            \n",
    "        triples.add((sbj[0], rel, obj[0]))\n",
    "\n",
    "    return triples, entity_triples, entity_set, relation_set"
   ]
  },
  {
   "cell_type": "code",
   "execution_count": 4,
   "metadata": {},
   "outputs": [],
   "source": [
    "# we call the tokenizer and the model from the HuggingFace library\n",
    "from transformers import AutoModelForSeq2SeqLM, AutoTokenizer\n",
    "tokenizer = AutoTokenizer.from_pretrained(\"ibm/knowgl-large\")\n",
    "model = AutoModelForSeq2SeqLM.from_pretrained(\"ibm/knowgl-large\").to(\"cuda\")\n",
    "#tokenizer = AutoTokenizer.from_pretrained(\"Babelscape/rebel-large\")\n",
    "#model = AutoModelForSeq2SeqLM.from_pretrained(\"Babelscape/rebel-large\").to(\"cuda\")"
   ]
  },
  {
   "cell_type": "code",
   "execution_count": 5,
   "metadata": {},
   "outputs": [],
   "source": [
    "# we set the generation parameters for the model\n",
    "gen_kwargs = {\n",
    "    \"max_length\": 1024,\n",
    "    \"length_penalty\": 0,\n",
    "    \"num_beams\": 10, # 10 beams is NOT the default value but we opted for it to get more diverse results\n",
    "    \"num_return_sequences\": 10, # 10 sequences is NOT the default value but we opted for it to get long tail triple extraction\n",
    "    \"return_dict_in_generate\": True, \n",
    "    \"output_scores\": True,\n",
    "}"
   ]
  },
  {
   "cell_type": "code",
   "execution_count": 16,
   "metadata": {},
   "outputs": [
    {
     "name": "stdout",
     "output_type": "stream",
     "text": [
      "{'Document id': 1, 'Document url': 'https://en.wikipedia.org/wiki/Adidas', 'Document name': 'Adidas', 'Chunk id': 1, 'Chunk text': 'Adidas AG (German: [ˈʔadiˌdas] (listen); stylized as adidas since 1949) is a German athletic apparel and footwear corporation headquartered in Herzogenaurach, Bavaria, Germany. Adidas AG is the largest sportswear manufacturer in Europe, and the second largest in the world, after Nike.', 'Extracted Triples and Probabilities': [(('Adidas', 'headquarters location', 'Herzogenaurach'), {'prob': 0.91, 'log_prob': -0.09}), (('Germany', 'contains administrative territorial entity', 'Bavaria'), {'prob': 0.91, 'log_prob': -0.09}), (('German', 'contains administrative territorial entity', 'Bavaria'), {'prob': 0.93, 'log_prob': -0.07}), (('Adidas', 'headquarters location', 'Herzogenaurach, Bavaria'), {'prob': 0.9, 'log_prob': -0.11}), (('Adidas AG', 'headquarters location', 'Herzogenaurach'), {'prob': 0.92, 'log_prob': -0.08})], 'Entity Triples and Probabilities': [(('Adidas', 'type', 'business'), {'prob': 0.91, 'log_prob': -0.09}), (('Herzogenaurach', 'type', 'urban municipality of Germany'), {'prob': 0.92, 'log_prob': -0.08}), (('Herzogenaurach', 'label', 'Herzogenaurach'), {'prob': 0.91, 'log_prob': -0.09}), (('Adidas', 'label', 'Adidas'), {'prob': 0.91, 'log_prob': -0.09}), (('Germany', 'type', 'sovereign state'), {'prob': 0.91, 'log_prob': -0.09}), (('Germany', 'label', 'Germany'), {'prob': 0.91, 'log_prob': -0.09}), (('Bavaria', 'type', 'state of Germany'), {'prob': 0.91, 'log_prob': -0.09}), (('Bavaria', 'label', 'Bavaria'), {'prob': 0.91, 'log_prob': -0.09}), (('German', 'type', 'sovereign state'), {'prob': 0.93, 'log_prob': -0.07}), (('German', 'label', 'Germany'), {'prob': 0.93, 'log_prob': -0.07}), (('Herzogenaurach, Bavaria', 'type', 'urban municipality of Germany'), {'prob': 0.9, 'log_prob': -0.11}), (('Herzogenaurach, Bavaria', 'label', 'Herzogenaurach'), {'prob': 0.9, 'log_prob': -0.11}), (('Herzogenaurach', 'type', 'town'), {'prob': 0.91, 'log_prob': -0.09}), (('Adidas AG', 'label', 'Adidas'), {'prob': 0.92, 'log_prob': -0.08}), (('Adidas AG', 'type', 'business'), {'prob': 0.92, 'log_prob': -0.08}), (('Herzogenaurach', 'type', 'municipality of Germany'), {'prob': 0.91, 'log_prob': -0.09})], 'Extracted Entities': ['Germany', 'German', 'Bavaria', 'Adidas AG', 'Adidas', 'Herzogenaurach', 'Herzogenaurach, Bavaria'], 'Extracted Relations': ['headquarters location', 'contains administrative territorial entity']}\n",
      "{'Document id': 1, 'Document url': 'https://en.wikipedia.org/wiki/Adidas', 'Document name': 'Adidas', 'Chunk id': 2, 'Chunk text': \"Adidas's is the holding company for the Adidas Group, which consists 8.33% stake of the football club Bayern München, and Runtastic, an Austrian fitness technology company. Adidas's revenue for 2018 was listed at €21.915 billion.\", 'Extracted Triples and Probabilities': [(('Adidas', 'owner of', 'Bayern München'), {'prob': 0.94, 'log_prob': -0.06}), (('Bayern München', 'owned by', 'Adidas'), {'prob': 0.94, 'log_prob': -0.06}), (('Bayern München', 'sport', 'football'), {'prob': 0.81, 'log_prob': -0.22}), (('Adidas', 'owner of', 'Runtastic'), {'prob': 0.88, 'log_prob': -0.13}), (('Bayern München', 'member of', 'Adidas'), {'prob': 0.91, 'log_prob': -0.09}), (('Bayern München', 'parent organization', 'Adidas'), {'prob': 0.91, 'log_prob': -0.09}), (('Runtastic', 'owned by', 'Adidas'), {'prob': 0.88, 'log_prob': -0.13}), ((\"Adidas's\", 'owner of', 'Bayern München'), {'prob': 0.91, 'log_prob': -0.09}), (('Bayern München', 'owned by', \"Adidas's\"), {'prob': 0.91, 'log_prob': -0.09})], 'Entity Triples and Probabilities': [(('Adidas', 'type', 'business'), {'prob': 0.88, 'log_prob': -0.13}), (('Bayern München', 'label', 'FC Bayern Munich'), {'prob': 0.91, 'log_prob': -0.09}), (('Bayern München', 'type', 'sports club'), {'prob': 0.91, 'log_prob': -0.09}), (('Adidas', 'label', 'Adidas'), {'prob': 0.88, 'log_prob': -0.13}), (('football', 'label', 'Association football'), {'prob': 0.81, 'log_prob': -0.22}), (('football', 'type', 'type of sport'), {'prob': 0.81, 'log_prob': -0.22}), (('Runtastic', 'label', 'Runtastic'), {'prob': 0.88, 'log_prob': -0.13}), (('Runtastic', 'type', 'business'), {'prob': 0.88, 'log_prob': -0.13}), ((\"Adidas's\", 'label', \"Adidas's\"), {'prob': 0.91, 'log_prob': -0.09}), ((\"Adidas's\", 'type', 'business'), {'prob': 0.91, 'log_prob': -0.09})], 'Extracted Entities': [\"Adidas's\", 'football', 'Runtastic', 'Adidas', 'Bayern München'], 'Extracted Relations': ['parent organization', 'owner of', 'member of', 'sport', 'owned by']}\n",
      "{'Document id': 1, 'Document url': 'https://en.wikipedia.org/wiki/Adidas', 'Document name': 'Adidas', 'Chunk id': 3, 'Chunk text': 'The company was started by Adolf Dassler in Adolf Dassler\\'s mother\\'s house; Adolf Dassler was joined by Adolf Dassler\\'s elder brother Rudolf in 1924 under the name Gebrüder Dassler Schuhfabrik (\"Dassler Brothers Shoe Factory\"). Adolf Dassler assisted in the development of spiked running shoes (spikes) for multiple athletic events.', 'Extracted Triples and Probabilities': [(('Adolf Dassler', 'sibling', 'Rudolf'), {'prob': 0.91, 'log_prob': -0.09}), (('Rudolf', 'sibling', 'Adolf Dassler'), {'prob': 0.91, 'log_prob': -0.09}), ((\"Adolf Dassler's elder brother Rudolf\", 'sibling', 'Adolf Dassler'), {'prob': 0.9, 'log_prob': -0.1}), (('Adolf Dassler', 'owner of', 'Dassler Brothers Shoe Factory'), {'prob': 0.95, 'log_prob': -0.05}), (('Adolf Dassler', 'owner of', 'Gebrüder Dassler Schuhfabrik'), {'prob': 0.95, 'log_prob': -0.05}), ((\"Adolf Dassler's\", 'sibling', 'Rudolf'), {'prob': 0.9, 'log_prob': -0.11}), (('Rudolf', 'sibling', \"Adolf Dassler's\"), {'prob': 0.9, 'log_prob': -0.11})], 'Entity Triples and Probabilities': [(('Rudolf', 'type', 'human'), {'prob': 0.9, 'log_prob': -0.11}), (('Rudolf', 'label', 'Rudolf Dassler'), {'prob': 0.9, 'log_prob': -0.11}), (('Adolf Dassler', 'label', 'Adolf Dassler'), {'prob': 0.91, 'log_prob': -0.09}), (('Adolf Dassler', 'type', 'human'), {'prob': 0.91, 'log_prob': -0.09}), (('Rudolf', 'label', 'Rudolf Dassler businessman'), {'prob': 0.95, 'log_prob': -0.06}), ((\"Adolf Dassler's elder brother Rudolf\", 'label', 'Rudolf Dassler'), {'prob': 0.9, 'log_prob': -0.1}), ((\"Adolf Dassler's elder brother Rudolf\", 'type', 'human'), {'prob': 0.9, 'log_prob': -0.1}), (('Dassler Brothers Shoe Factory', 'type', 'business'), {'prob': 0.95, 'log_prob': -0.05}), (('Dassler Brothers Shoe Factory', 'label', 'Dassler Brothers Shoe Factory'), {'prob': 0.95, 'log_prob': -0.05}), (('Gebrüder Dassler Schuhfabrik', 'label', 'Gebrüder Dassler Schuhfabrik'), {'prob': 0.95, 'log_prob': -0.05}), (('Gebrüder Dassler Schuhfabrik', 'type', 'business'), {'prob': 0.95, 'log_prob': -0.05}), (('Rudolf', 'label', 'Rudolf Dassler running shoes'), {'prob': 0.91, 'log_prob': -0.09}), ((\"Adolf Dassler's\", 'type', 'human'), {'prob': 0.9, 'log_prob': -0.11}), ((\"Adolf Dassler's\", 'label', 'Adolf Dassler'), {'prob': 0.9, 'log_prob': -0.11})], 'Extracted Entities': ['Dassler Brothers Shoe Factory', 'Rudolf', 'Adolf Dassler', 'Gebrüder Dassler Schuhfabrik', \"Adolf Dassler's elder brother Rudolf\", \"Adolf Dassler's\"], 'Extracted Relations': ['owner of', 'sibling']}\n",
      "{'Document id': 1, 'Document url': 'https://en.wikipedia.org/wiki/Adidas', 'Document name': 'Adidas', 'Chunk id': 4, 'Chunk text': \"To enhance the quality of spiked athletic footwear, Dassler transitioned from a previous model of heavy metal spikes to utilising canvas and rubber. Dassler persuaded U.S. sprinter Jesse Owens to use U.S. sprinter Jesse Owens's handmade spikes at the 1936 Summer Olympics.\", 'Extracted Triples and Probabilities': [(('Jesse Owens', 'participant in', '1936 Summer Olympics'), {'prob': 0.85, 'log_prob': -0.17}), (('1936 Summer Olympics', 'participant', 'Jesse Owens'), {'prob': 0.88, 'log_prob': -0.13}), (('Jesse Owens', 'participant in', '1936 Summer Olympics.'), {'prob': 0.77, 'log_prob': -0.26}), ((\"Jesse Owens's handmade spikes\", 'named after', 'Jesse Owens'), {'prob': 0.78, 'log_prob': -0.25}), (('Jesse Owens', 'sports discipline competed in', 'spike'), {'prob': 0.77, 'log_prob': -0.26})], 'Entity Triples and Probabilities': [(('1936 Summer Olympics', 'label', '1936 Summer Olympics'), {'prob': 0.88, 'log_prob': -0.13}), (('Jesse Owens', 'label', 'Jesse Owens'), {'prob': 0.77, 'log_prob': -0.26}), (('1936 Summer Olympics', 'type', 'Summer Olympic Games'), {'prob': 0.88, 'log_prob': -0.13}), (('Jesse Owens', 'type', 'human'), {'prob': 0.77, 'log_prob': -0.26}), (('Jesse Owens', 'label', 'Jesse Owens sprinter'), {'prob': 0.9, 'log_prob': -0.1}), (('Jesse Owens', 'label', 'Jesse Owens athlete'), {'prob': 0.86, 'log_prob': -0.16}), (('1936 Summer Olympics', 'label', 'Athletics at the 1936 Summer Olympics'), {'prob': 0.86, 'log_prob': -0.15}), (('1936 Summer Olympics', 'type', 'Olympic sports discipline event'), {'prob': 0.86, 'log_prob': -0.15}), (('1936 Summer Olympics', 'type', 'Olympic sporting event'), {'prob': 0.85, 'log_prob': -0.17}), (('1936 Summer Olympics', 'label', \"Athletics at the 1936 Summer Olympics – Men's 110 metres\"), {'prob': 0.85, 'log_prob': -0.17}), (('1936 Summer Olympics.', 'label', '1936 Summer Olympics'), {'prob': 0.77, 'log_prob': -0.26}), (('1936 Summer Olympics.', 'type', 'Summer Olympic Games'), {'prob': 0.77, 'log_prob': -0.26}), ((\"Jesse Owens's handmade spikes\", 'type', 'sports equipment'), {'prob': 0.78, 'log_prob': -0.25}), ((\"Jesse Owens's handmade spikes\", 'label', \"Jesse Owens's handmade spikes\"), {'prob': 0.78, 'log_prob': -0.25}), (('spike', 'type', 'sports equipment'), {'prob': 0.77, 'log_prob': -0.26}), (('spike', 'label', 'Spike running'), {'prob': 0.77, 'log_prob': -0.26})], 'Extracted Entities': [\"Jesse Owens's handmade spikes\", '1936 Summer Olympics.', '1936 Summer Olympics', 'Jesse Owens', 'spike'], 'Extracted Relations': ['named after', 'participant in', 'participant', 'sports discipline competed in']}\n",
      "{'Document id': 1, 'Document url': 'https://en.wikipedia.org/wiki/Adidas', 'Document name': 'Adidas', 'Chunk id': 5, 'Chunk text': \"In 1949, following a breakdown in the relationship between the brothers, Adolf created Adidas and Rudolf established Puma, which became Adidas's business rival. The three stripes are Adidas's identity mark, having been used on Adidas's clothing and shoe designs as a marketing aid.\", 'Extracted Triples and Probabilities': [(('Puma', 'parent organization', 'Adidas'), {'prob': 0.87, 'log_prob': -0.14}), (('Adidas', 'owner of', 'Puma'), {'prob': 0.87, 'log_prob': -0.14}), (('Adidas', 'follows', 'Puma'), {'prob': 0.86, 'log_prob': -0.15}), (('Adidas', 'replaces', 'Puma'), {'prob': 0.86, 'log_prob': -0.15}), (('Adidas', 'different from', 'Puma'), {'prob': 0.88, 'log_prob': -0.13}), (('Puma', 'different from', 'Adidas'), {'prob': 0.88, 'log_prob': -0.13}), (('Adidas', 'business division', 'Puma'), {'prob': 0.85, 'log_prob': -0.16})], 'Entity Triples and Probabilities': [(('Puma', 'label', 'Puma'), {'prob': 0.88, 'log_prob': -0.13}), (('Adidas', 'type', 'business'), {'prob': 0.88, 'log_prob': -0.13}), (('Adidas', 'label', 'Adidas'), {'prob': 0.88, 'log_prob': -0.13}), (('Puma', 'type', 'business'), {'prob': 0.88, 'log_prob': -0.13}), (('Puma', 'label', 'Puma shoe company'), {'prob': 0.85, 'log_prob': -0.16})], 'Extracted Entities': ['Adidas', 'Puma'], 'Extracted Relations': ['different from', 'parent organization', 'follows', 'business division', 'owner of', 'replaces']}\n"
     ]
    }
   ],
   "source": [
    "# Extraction time!\n",
    "for line in data[:5]:\n",
    "    inputs = line[\"Chunk text\"] \n",
    "    model_inputs = tokenizer(inputs, max_length=1024, padding=True, truncation=True, return_tensors = 'pt')\n",
    "    #print(model_inputs['input_ids'].size())\n",
    "    outputs = model.generate(\n",
    "                            model_inputs[\"input_ids\"].to('cuda'),\n",
    "                            attention_mask=model_inputs[\"attention_mask\"].to('cuda'),\n",
    "                            **gen_kwargs,\n",
    "                            )\n",
    "    #decoded_preds = tokenizer.batch_decode(generated_tokens, skip_special_tokens=False)\n",
    "    transition_scores = model.compute_transition_scores(outputs.sequences, outputs.scores, \n",
    "                                                        outputs.beam_indices, normalize_logits=False)\n",
    "    \n",
    "    input_length = 1 if model.config.is_encoder_decoder else inputs.input_ids.shape[1]\n",
    "    output_length = input_length + np.sum(transition_scores.cpu().numpy() < 0, axis=1)\n",
    "    length_penalty = model.generation_config.length_penalty\n",
    "    reconstructed_scores = transition_scores.cpu().sum(axis=1) / (output_length**length_penalty)\n",
    "    \n",
    "    all_triples_dict = dict()\n",
    "    all_entity_triples_dict = dict()\n",
    "    entity_set = set()\n",
    "    relation_set = set()\n",
    "    for seq, seq_score, prob in zip(outputs.sequences, reconstructed_scores, np.exp(reconstructed_scores)):\n",
    "        pred = tokenizer.decode(seq, skip_special_tokens=False)\n",
    "        triples, entity_triples, entities, relations = extract_triples(pred)\n",
    "        triple_dict = dict()\n",
    "        entity_triple_dict = dict()\n",
    "        for triple in triples:\n",
    "            triple_dict[triple] = {'prob': float(f'{prob:.2f}'), 'log_prob': float(f'{seq_score:.2f}')}\n",
    "        all_triples_dict.update(triple_dict)\n",
    "            \n",
    "        for entity_triple in entity_triples:\n",
    "            entity_triple_dict[entity_triple] = {'prob': float(f'{prob:.2f}'), 'log_prob': float(f'{seq_score:.2f}')}\n",
    "        all_entity_triples_dict.update(entity_triple_dict)\n",
    "            \n",
    "        for entity in entities:\n",
    "            entity_set.add(entity)\n",
    "            \n",
    "        for relation in relations:  \n",
    "            relation_set.add(relation)\n",
    "    \n",
    "    line[\"Extracted Triples and Probabilities\"] = list(all_triples_dict.items())\n",
    "    line[\"Entity Triples and Probabilities\"] = list(all_entity_triples_dict.items())\n",
    "    line[\"Extracted Entities\"] = list(entity_set)\n",
    "    line[\"Extracted Relations\"] = list(relation_set)\n",
    "    print(line)    \n"
   ]
  },
  {
   "cell_type": "code",
   "execution_count": 17,
   "metadata": {},
   "outputs": [],
   "source": [
    "# Let's save the data in a jsonl file\n",
    "with open('data/preprocessed_data_with_KnowGL_extracted_triples_and_probabilities.jsonl', 'w', encoding='utf-8') as f:\n",
    "    for line in data:\n",
    "        line = json.dump(line, f, ensure_ascii=False)\n",
    "        f.write(f'{line}\\n')"
   ]
  }
 ],
 "metadata": {
  "kernelspec": {
   "display_name": "base",
   "language": "python",
   "name": "python3"
  },
  "language_info": {
   "codemirror_mode": {
    "name": "ipython",
    "version": 3
   },
   "file_extension": ".py",
   "mimetype": "text/x-python",
   "name": "python",
   "nbconvert_exporter": "python",
   "pygments_lexer": "ipython3",
   "version": "3.10.9"
  },
  "orig_nbformat": 4
 },
 "nbformat": 4,
 "nbformat_minor": 2
}
